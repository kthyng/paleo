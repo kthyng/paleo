{
 "cells": [
  {
   "cell_type": "code",
   "execution_count": 1,
   "metadata": {
    "collapsed": false
   },
   "outputs": [],
   "source": [
    "import os\n",
    "import gsw\n",
    "import numpy as np\n",
    "%matplotlib inline"
   ]
  },
  {
   "cell_type": "markdown",
   "metadata": {},
   "source": [
    "# Paleo modeling\n"
   ]
  },
  {
   "cell_type": "markdown",
   "metadata": {},
   "source": [
    "# Model setup\n",
    "\n",
    "Simulations are run using the COAWST implementation of ROMS (version VERSION). The horizontal grid has been used in several studies (Hetland and Campbell, 2007; Zhang et al, 2014) and output is used operationally by the Texas General Land Office and NOAA's Office of Response and Restoration.\n",
    "\n",
    "## Boundaries\n",
    "All boundaries are closed. Walls are no-slip and bottom friction is used with (WHAT VALUES). There is no meteorological forcing."
   ]
  },
  {
   "cell_type": "markdown",
   "metadata": {},
   "source": [
    "## Bathymetry\n",
    "\n",
    "The sea level was about 120 meters lower 19,000 years ago at the end of the last glacial period and the Mississippi river entered the Gulf at the Mississippi canyon.\n",
    "\n",
    "![](images/bathy.png)\n",
    "\n",
    "### Shifting\n",
    "In the script `setup/bathy/bathy_shift.py`, I subtract 120 meters from all of the depths, mask out anything that went negative since it is now land, make everything have a minimum depth of 25 meters, fix a couple of weird holes in the mask by hand (not sure these ended up being important to model stability), and then update the masks for all grids. The output of this is `setup/bathy/grid-shifted.nc`.\n",
    "\n",
    "### Smoothing\n",
    "The script `setup/bathy/bathy_smooth.py` takes in `grid-shifted.nc` and smoothes the bathymetry to a Beckman/Haidvogel number of 0.4. It's hard to get the code installed, but I had it working on my old laptop and found that the different algorithms for smoothing tend to give fairly similar results, so I am just using \"Positive\" now.\n",
    "\n",
    "### Vertical grid\n",
    "The number of vertical levels is 20 with Vtransform=2 and Vstretching=4 to achieve a Haney (CITE) metric of 7.8."
   ]
  },
  {
   "cell_type": "markdown",
   "metadata": {},
   "source": [
    "## T and S initialization\n",
    "\n",
    "### Data\n",
    "The simulations are initialized with a uniform density gradient (with depth) calculated using the linear equation of state with temperature and salinity averaged over the profiles available in the World Ocean Atlas (1955-2012) from the deep Gulf of Mexico (Station number 28569 (B): 93.5W, 24.5N). The ODV [WOA 2013 data](https://odv.awi.de/en/data/ocean/world_ocean_atlas_2013/\n",
    ") ([data link](https://odv.awi.de/fileadmin/user_upload/odv/data/WOA13/WOA13_1.00deg_1955-2012_Annual.zip\n",
    ")) is saved into file `setup/initialization/data_from_WOA13_1.00deg_1955-2012_Annual_centerGOM.nc` and is shown here:\n",
    "\n",
    "<img src=\"images/Profiles_AnalyzedValues_centerGOM.gif\" width=\"70%\">\n",
    "\n",
    "### Present day background values\n",
    "The background salinity and temperature are given by values from the bottom of the WOA profile where the values are more consistent: $S_0=35.0$ g kg$^{-1}$, and $T_0=4.2$ $^\\circ$C. These are calculated from data arrays in `setup/initialization/initialization.py`, taking the bottom 20 bins (1950 to 3800 depth). I then calculate the background density using the equation of state and assuming pressure from the top of the water column:"
   ]
  },
  {
   "cell_type": "code",
   "execution_count": 2,
   "metadata": {
    "collapsed": false
   },
   "outputs": [
    {
     "name": "stdout",
     "output_type": "stream",
     "text": [
      "1027.63433399\n"
     ]
    }
   ],
   "source": [
    "# present day\n",
    "S0 = 35; T0 = 4.2\n",
    "rho0 = gsw.rho(S0, T0, 0)  # kg/m^3\n",
    "print(rho0)"
   ]
  },
  {
   "cell_type": "markdown",
   "metadata": {},
   "source": [
    "### Paleo values\n",
    "Based on Niall's work, the paleo temperature profile is then uniformly 2 degrees cooler and 3.5% more saline across whole water column. The background numbers are then $S_0=36.225$ g kg$^{-1}$, and $T_0=2.2$ $^\\circ$C. I can similarly calculate the background paleo density:"
   ]
  },
  {
   "cell_type": "code",
   "execution_count": 3,
   "metadata": {
    "collapsed": false
   },
   "outputs": [
    {
     "name": "stdout",
     "output_type": "stream",
     "text": [
      "1028.79903353\n"
     ]
    }
   ],
   "source": [
    "# paleo\n",
    "S0 = 36.225; T0 = 2.2\n",
    "rho0 = gsw.rho(S0, T0, 0)  # kg/m^3\n",
    "print(rho0)"
   ]
  },
  {
   "cell_type": "markdown",
   "metadata": {},
   "source": [
    "### Linear equation of state\n",
    "I used the linear equation of state to calculate the paleo density profile, using the paleo background numbers. The linear equation of state is given by the equation below where $S_{COEF}=7.6\\times 10^{-4}$ (g kg$^{-1}$)$^{-1}$ and $T_{COEF}=1.7\\times 10^{-4}$ $^\\circ$C$^{-1}$ from the ROMS model. \n",
    "$$ \\rho = \\rho_0 *\\left[1.0 + S_{COEF} (S-S_0) - T_{COEF} (T-T_0)\\right] $$\n",
    "\n",
    "The resultant salinity and temperature profiles are on the left in the figure below."
   ]
  },
  {
   "cell_type": "code",
   "execution_count": 4,
   "metadata": {
    "collapsed": false
   },
   "outputs": [
    {
     "name": "stderr",
     "output_type": "stream",
     "text": [
      "//anaconda/lib/python3.5/site-packages/matplotlib-2.0.2+4065.gde2755c-py3.5-macosx-10.5-x86_64.egg/matplotlib/mathtext.py:846: MathTextWarning: Substituting with a symbol from Computer Modern.\n",
      "  MathTextWarning)\n"
     ]
    }
   ],
   "source": [
    "Scoef = 7.6e-4; Tcoef = 1.7e-4\n",
    "\n",
    "os.chdir('../setup/initialization')\n",
    "%run make_initialization.py 1 0\n",
    "os.chdir('../../notebook')"
   ]
  },
  {
   "cell_type": "markdown",
   "metadata": {},
   "source": [
    "![profiles](../setup/initialization/WOA_profiles.png)"
   ]
  },
  {
   "cell_type": "markdown",
   "metadata": {},
   "source": [
    "In case the figures aren't showing above, here is the image:\n",
    "\n",
    "![](images/WOA_profiles.png)"
   ]
  },
  {
   "cell_type": "markdown",
   "metadata": {},
   "source": [
    "### Density setup for simulation\n",
    "\n",
    "After finding the density profile for the paleo initialization, I use the linear equation of state to calculate the equivalent temperature profile that would make that density profile if the salinity is uniformly equal to the background salinity. That is, $S=S_0$, so $ \\rho = \\rho_0 *\\left[1.0 - T_{COEF} (T-T_0)\\right] $ and \n",
    "$$ T = -\\frac{\\rho}{\\rho_0 T_{COEF}} - T_0 $$\n",
    "\n",
    "This is a numerical convenience so that salinity can be used as a tracer representing the input river water. The paleo density profile and temperature profile that gives the same density profile with no salinity changes are shown on the right above.\n",
    "\n",
    "### Initialization file\n",
    "The initialization file `ocean_ini.nc` is created by `python make_initialization.py 0 1`."
   ]
  },
  {
   "cell_type": "markdown",
   "metadata": {},
   "source": [
    "## River input\n",
    "\n",
    "### Locations and structure\n",
    "\n",
    "I have the river coming in around the Mississippi canyon (see bathymetry above). The river location options are visualized in the figures below, as made in `setup/river/river_locations.py`. Since the locations are defined on the u and v grid by the cell wall that the river water is actually exiting through, the proper grid labels are shown for each of the 3 main numerical grids.\n",
    "\n",
    "<img src=\"images/masku.png\" alt=\"ts\" width=\"50%\">\n",
    "<img src=\"images/maskv.png\" alt=\"ts\" width=\"50%\">\n",
    "\n",
    "The river forcing file, `tglo_river_frc_2010-01-01.nc`, is made in `setup/river/river_frc_tglo.py`. This file is referenced in time to 'days since 1970-01-01 00:00:00' and starts on 2010-01-01, though the date isn't relevant for this simulation except to keep track of time passing. The time length is controlled in this file (currently a year of 30 day months) and the output is every 3 hours. The river is input over the full 20 vertical layers. The amount of river water in each layer is weighted by the thickness of the layer so that the profile is uniform over the water column. There are 24 input locations that the river water is divided across at each time step, and the amount out each cell face is weight by the surface area of the cell wall.\n",
    "\n",
    "### Amount\n",
    "The total volumne of water being input through the river is $1e14$ m$^3$, which is from Clarke et al 2004’s flood volume of 151,000 km^3 over 0.5 year. I used a Gaussian to represent the flood pulse:\n",
    "\n",
    "$$Q(t) = A e^\\left( - \\frac{t-mid^2}{2w^2}\\right)$$\n",
    "\n",
    "where  $Q(t)$ is the flux in m^3/s, $A$ is the amplitude [m$^3$/s], $mid$ is the middle point of the gaussian, and $w$ is the width (0.15 * the 12 month runtime). I solve for A:\n",
    "\n",
    "$$ \\Sigma_t Q(t) = A * \\Sigma_t e^{()} $$\n",
    "\n",
    "and $\\Sigma_t Q(t)$ is the volume, so $A = V / \\Sigma_t e^{()} * dt  = 8561003 m^3/s$ (calculated in `setup/river/river_frc_tglo.py`).  Then I can solve for Gaussian.\n",
    "\n",
    "<img src=\"images/river_pulse.png\" alt=\"ts\" width=\"20%\">\n",
    "\n",
    "### CFL and time step\n",
    "\n",
    "The velocity for this flow rate is:\n",
    "\n",
    "$$ u = Q_{max} / (\\Delta x * \\Delta z) = 460977 m^3/s / (5000 m * 25 m) = 3.7 m/s $$\n",
    "\n",
    "The CFL condition is satisfied for\n",
    "\n",
    "$$ t < 0.5 ∆x/u = 0.5 * 5000m / 3.7 m/s = 675 s $$\n",
    "\n",
    "though the actual time step being used ends up being smaller."
   ]
  },
  {
   "cell_type": "markdown",
   "metadata": {},
   "source": [
    "### Density\n",
    "\n",
    "The density of the river water is controlled by the salinity and the temperature is set to the background temperature. I choose the desired density of the river water and use the linear equation of state to solve for the necessary salinity."
   ]
  },
  {
   "cell_type": "markdown",
   "metadata": {},
   "source": [
    "## Key input parameters\n",
    "\n",
    "* NTIMES == 86400  # 1 year simulation time\n",
    "* DT == 360.0d0  # 6 min time step\n",
    "* NHIS == 240  # daily output\n",
    "* NDEFHIS == 86400  # all output in 1 year-long file  \n"
   ]
  },
  {
   "cell_type": "markdown",
   "metadata": {},
   "source": [
    "# Initial results\n",
    "\n",
    "I ran a series of four simulations with a range of river densities to span from the top to bottom of the water column. \n",
    "\n",
    "## low density, top of the water column\n",
    "\n",
    "`new1`, river salinity = 33.9 (density 1026) (background salinity 36.225)\n",
    "<img src=\"images/new1-180.png\" alt=\"ts\" width=\"30%\">\n",
    "<img src=\"images/new1-360.png\" alt=\"ts\" width=\"30%\">\n",
    "\n",
    "## medium-low density\n",
    "\n",
    "`new2`, river salinity = 35.2 (density 1027)\n",
    "<img src=\"images/new2-180.png\" alt=\"ts\" width=\"30%\">\n",
    "<img src=\"images/new2-360.png\" alt=\"ts\" width=\"30%\">\n",
    "\n",
    "## medium-high density\n",
    "\n",
    "`new3`, river salinity = 36.5 (density 1028)\n",
    "<img src=\"images/new3-180.png\" alt=\"ts\" width=\"30%\">\n",
    "<img src=\"images/new3-360.png\" alt=\"ts\" width=\"30%\">\n",
    "\n",
    "## high density, bottom of the water column\n",
    "\n",
    "`new4`, river salinity = 37.8 (density 1029)\n",
    "<img src=\"images/new4-180.png\" alt=\"ts\" width=\"30%\">\n",
    "<img src=\"images/new4-360.png\" alt=\"ts\" width=\"30%\">\n"
   ]
  },
  {
   "cell_type": "markdown",
   "metadata": {},
   "source": [
    "# Possible next directions\n",
    "\n",
    "Several sources show a sea level rise 19,000 years ago. Clark et al (2004) the rise was at least 10 meters. Yokoyama et al (2000) say a rapid rise of 10-15 meters. Clark et al (20xx) the rise was at least 10 meters. Somebody was 5 meters (Mortlock?). So we are planning to use between a 5 and 10 meter sea level rise.\n",
    "\n",
    "Given a surface area of the ocean of $3.61e8$ (from the way Mortlock calculated this for his work?), this gives a volume of water range of 1.805 to 3.61 million km$^3$ of seawater input into the ocean. (This is compared with the volume of river water I have previously run with: 100,000 km^3).\n",
    "\n",
    "Niall has evidence in his cores that these inputs occurred over three different events, with time in between.\n",
    "\n",
    "The time range is unknown because the dating methods are not precise enough. However, we do know that the range must be less than 500 years because of WHO'S data in WHAT PAPER. At least paper (WHICH?) also indicated a flood of size 10,000 km$^3$/year (IS THAT CORRECT?).\n",
    "\n",
    "For reference, the typical present day Mississippi discharge per year is (from Wikipedia's mean number):\n",
    "\n",
    "$$ 16792 m^3/s *(365 days/year) * 24 hours/day * 3600 seconds/hour) / 1000(m/km)^3 \\approx 500 km^3/year$$\n",
    "\n",
    "We probably only need to run one of these events. We could run simulations for several time lengths, with different approaches:\n",
    "\n",
    "1. For a short, strong flood, I would need to use a very small time step but the simulation would be shorter.\n",
    "1. For a long, weak flood, I could use a bigger time step and run a few targeted years during the long simulation time period since the time scale of the flood would be so long relative to the dynamics of the water being input into the Gulf.\n",
    "1. Separately: keep in mind that we only need to run the simulation through the settling velocity time since that is the process we are comparing with the sediment data."
   ]
  },
  {
   "cell_type": "markdown",
   "metadata": {},
   "source": [
    "# Realistic volume simulations\n",
    "\n",
    "We will run a spread of simulations: 1. 50% of a 5 meter sea level rise (this assumes there is input to the 5 meter sea level rise from other sources and represents a lower bound) to 2. 100% of a 10 meter sea level rise (this assumes all water is from this event and represents an upper bound). For both cases, I will divide the total volume by 3 to represent that there were 3 events in the cores.\n",
    "\n",
    "1. Total volume: 1.805 million km$^3$ water * (1000 m/km)$^3$ = 1.805$\\times$10$^{15}$m$^3$\n",
    "\n",
    "   Take 50%: 0.5 * 1.805$\\times$10$^{15}$m$^3$ = 9.025$\\times$ 10$^{14}$ m$^3$\n",
    "    \n",
    "   Divide by 3 for number of pulses to get total volume per pulse in this scenario: \n",
    "   9.025$\\times$ 10$^{14}$ m$^3$ / 3 $\\approx$ 3$\\times$10$^{14}$ m$^3$\n",
    "\n",
    "1. Total volume: 3.61 million km$^3$ water * (1000 m/km)$^3$ = 3.61$\\times$10$^{15}$m$^3$\n",
    "\n",
    "   Take 100%\n",
    "    \n",
    "   Divide by 3 for number of pulses to get total volume per pulse in this scenario: \n",
    "   3.61$\\times$ 10$^{15}$ m$^3$ / 3 $\\approx$ 1.2$\\times$10$^{15}$ m$^3$\n",
    "   \n",
    "For each simulation, these total volumes go into `paleo/setup/river/river_frc_tglo.py` as the `transport` variable.\n",
    "\n",
    "\n",
    "## Temperature and salinity of river water\n",
    "\n",
    "Also need to update the temperature and salinity to reflect the new background densities (which have already been changed above). As before, the density of the river water is controlled by the salinity. The desired density of the river water is 1028 kg m$^3$. For this river density, we can find the depth at neutral density in the water column and the corresponding temperature to set, along with using the linear equation of state to solve for the necessary salinity we get:\n",
    "\n",
    "$$ S = \\frac{1}{S_{COEF}} \\left[\\frac{\\rho}{\\rho_0} - 1 + T_{COEF} (T - T_0) \\right] + S_0 $$"
   ]
  },
  {
   "cell_type": "code",
   "execution_count": 8,
   "metadata": {
    "collapsed": false
   },
   "outputs": [
    {
     "name": "stdout",
     "output_type": "stream",
     "text": [
      "neutral depth of river water: 460.70075757575756\n",
      "surface temperature, to use for river water: 12 for depth 0.0\n",
      "river salinity, from linear eqn of state: 37.3951759283\n"
     ]
    }
   ],
   "source": [
    "os.chdir('../setup/initialization')\n",
    "%run make_initialization 0 0 --calc_river 1028\n",
    "os.chdir('../../notebook')"
   ]
  },
  {
   "cell_type": "markdown",
   "metadata": {
    "collapsed": true
   },
   "source": []
  },
  {
   "cell_type": "markdown",
   "metadata": {},
   "source": [
    "These values go into `setup/river/river_frc_tglo.py` under `river_temp` and `river_salt`."
   ]
  },
  {
   "cell_type": "code",
   "execution_count": null,
   "metadata": {
    "collapsed": true
   },
   "outputs": [],
   "source": []
  }
 ],
 "metadata": {
  "anaconda-cloud": {},
  "kernelspec": {
   "display_name": "Python [Root]",
   "language": "python",
   "name": "Python [Root]"
  },
  "language_info": {
   "codemirror_mode": {
    "name": "ipython",
    "version": 3
   },
   "file_extension": ".py",
   "mimetype": "text/x-python",
   "name": "python",
   "nbconvert_exporter": "python",
   "pygments_lexer": "ipython3",
   "version": "3.5.0rc4"
  }
 },
 "nbformat": 4,
 "nbformat_minor": 0
}
