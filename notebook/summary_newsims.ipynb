{
 "cells": [
  {
   "cell_type": "markdown",
   "metadata": {},
   "source": [
    "# Results from new simulations\n",
    "\n",
    "These are a set of four simulations run to examine different incoming densities relative to the background. This is taken from summary.ipynb as I have changed things over time."
   ]
  },
  {
   "cell_type": "markdown",
   "metadata": {},
   "source": [
    "## River input\n",
    "\n",
    "### Locations and structure\n",
    "\n",
    "I have the river coming in around the Mississippi canyon (see bathymetry above). The river location options are visualized in the figures below, as made in `setup/river/river_locations.py`. Since the locations are defined on the u and v grid by the cell wall that the river water is actually exiting through, the proper grid labels are shown for each of the 3 main numerical grids.\n",
    "\n",
    "<img src=\"images/masku.png\" alt=\"ts\" width=\"50%\">\n",
    "<img src=\"images/maskv.png\" alt=\"ts\" width=\"50%\">\n",
    "\n",
    "The river forcing file, `tglo_river_frc_2010-01-01.nc`, is made in `setup/river/river_frc_tglo.py`. This file is referenced in time to 'days since 1970-01-01 00:00:00' and starts on 2010-01-01, though the date isn't relevant for this simulation except to keep track of time passing. The time length is controlled in this file (currently a year of 30 day months) and the output is every 3 hours. The river is input over the full 20 vertical layers. The amount of river water in each layer is weighted by the thickness of the layer so that the profile is uniform over the water column. There are 24 input locations that the river water is divided across at each time step, and the amount out each cell face is weight by the surface area of the cell wall.\n",
    "\n",
    "### Amount\n",
    "The total volumne of water being input through the river is $1e14$ m$^3$, which is from Clarke et al 2004’s flood volume of 151,000 km^3 over 0.5 year. I used a Gaussian to represent the flood pulse:\n",
    "\n",
    "$$Q(t) = A e^\\left( - \\frac{t-mid^2}{2w^2}\\right)$$\n",
    "\n",
    "where  $Q(t)$ is the flux in m^3/s, $A$ is the amplitude [m$^3$/s], $mid$ is the middle point of the gaussian, and $w$ is the width (0.15 * the 12 month runtime). I solve for A:\n",
    "\n",
    "$$ \\Sigma_t Q(t) = A * \\Sigma_t e^{()} $$\n",
    "\n",
    "and $\\Sigma_t Q(t)$ is the volume, so $A = V / \\Sigma_t e^{()} * dt  = 8561003 m^3/s$ (calculated in `setup/river/river_frc_tglo.py`).  Then I can solve for Gaussian.\n",
    "\n",
    "<img src=\"images/river_pulse.png\" alt=\"ts\" width=\"20%\">\n",
    "\n",
    "### CFL and time step\n",
    "\n",
    "The velocity for this flow rate is:\n",
    "\n",
    "$$ u = Q_{max} / (\\Delta x * \\Delta z) = 460977 m^3/s / (5000 m * 25 m) = 3.7 m/s $$\n",
    "\n",
    "The CFL condition is satisfied for\n",
    "\n",
    "$$ t < 0.5 ∆x/u = 0.5 * 5000m / 3.7 m/s = 675 s $$\n",
    "\n",
    "though the actual time step being used ends up being smaller."
   ]
  },
  {
   "cell_type": "markdown",
   "metadata": {},
   "source": [
    "# Initial results\n",
    "\n",
    "I ran a series of four simulations with a range of river densities to span from the top to bottom of the water column. \n",
    "\n",
    "## low density, top of the water column\n",
    "\n",
    "`new1`, river salinity = 33.9 (density 1026) (background salinity 36.225)\n",
    "<img src=\"images/new1-180.png\" alt=\"ts\" width=\"30%\">\n",
    "<img src=\"images/new1-360.png\" alt=\"ts\" width=\"30%\">\n",
    "\n",
    "## medium-low density\n",
    "\n",
    "`new2`, river salinity = 35.2 (density 1027)\n",
    "<img src=\"images/new2-180.png\" alt=\"ts\" width=\"30%\">\n",
    "<img src=\"images/new2-360.png\" alt=\"ts\" width=\"30%\">\n",
    "\n",
    "## medium-high density\n",
    "\n",
    "`new3`, river salinity = 36.5 (density 1028)\n",
    "<img src=\"images/new3-180.png\" alt=\"ts\" width=\"30%\">\n",
    "<img src=\"images/new3-360.png\" alt=\"ts\" width=\"30%\">\n",
    "\n",
    "## high density, bottom of the water column\n",
    "\n",
    "`new4`, river salinity = 37.8 (density 1029)\n",
    "<img src=\"images/new4-180.png\" alt=\"ts\" width=\"30%\">\n",
    "<img src=\"images/new4-360.png\" alt=\"ts\" width=\"30%\">\n"
   ]
  },
  {
   "cell_type": "code",
   "execution_count": null,
   "metadata": {
    "collapsed": true
   },
   "outputs": [],
   "source": []
  }
 ],
 "metadata": {
  "anaconda-cloud": {},
  "kernelspec": {
   "display_name": "Python [Root]",
   "language": "python",
   "name": "Python [Root]"
  },
  "language_info": {
   "codemirror_mode": {
    "name": "ipython",
    "version": 3
   },
   "file_extension": ".py",
   "mimetype": "text/x-python",
   "name": "python",
   "nbconvert_exporter": "python",
   "pygments_lexer": "ipython3",
   "version": "3.5.0rc4"
  }
 },
 "nbformat": 4,
 "nbformat_minor": 0
}
